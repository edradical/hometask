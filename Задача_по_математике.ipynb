{
 "cells": [
  {
   "cell_type": "markdown",
   "id": "06fdca28",
   "metadata": {},
   "source": [
    "# Задачи по математике"
   ]
  },
  {
   "cell_type": "markdown",
   "id": "ce21dabc",
   "metadata": {},
   "source": [
    "## Задача №1"
   ]
  },
  {
   "cell_type": "markdown",
   "id": "aa34ecaf",
   "metadata": {},
   "source": [
    "1) Пространство элементраных исходов Ω = {6 секторов будут выбраны волчком из 14}, |Ω| = $14^6$ = 7529536  \n",
    "\n",
    "2) Теперь необходимо найти вероятность выпадения секторов: 1,...,6. Предположим, что имеется не 14 секторов, а 7. Число 7 мы выбираем, поскольку в данном случае, вероятность того, что не будет выбран один из секторов очевидна и равна\n",
    "$\\frac{1}{7}$. Тогда вероятность выпадения секторов с 1-ого по 6-ой: $\\frac{1}{7}$ = $\\frac{|A|}{7^6}$, т.е. |A| = $7^5$ = 16807.\n",
    "\n",
    "3)P(A) = $\\frac{|A|}{\Omega}$ = $\\frac{16807}{7529536}$ $\\approx$ 0,00223"
   ]
  },
  {
   "cell_type": "markdown",
   "id": "faf26856",
   "metadata": {},
   "source": [
    "## Задача №2"
   ]
  },
  {
   "cell_type": "markdown",
   "id": "4e4f6910",
   "metadata": {},
   "source": [
    "Так как у нас неизвестна дисперсия, и выбора является небольшой, то необходимо вместо нормального распределения использовать распределение Стьюдента. В этом случае, доверительный интервал имеет вид: ($\\bar x$ - $\\frac{\\sigma}{\\sqrt{n}}t_\\alpha(n-1)$; $\\bar x$ + $\\frac{\\sigma}{\\sqrt{n}}t_\\alpha(n-1)$)\n",
    "\n",
    "1) Среднее значение равно $\\bar x$ = 8, а выборочное квадратичное отклонение $\\bar \\sigma$ = 4\n",
    "\n",
    "2) По таблице распредления Стьюдента можем найти, что квантиль 1 - $\\frac{\\alpha}{2}$ = 0.995, число степеней свободы n-1, так как, одну мы отдаем на дисперсию, равно 15. Следовательно $t_\\alpha$ = 3.29. Тогда $\\frac{\\sigma} \n",
    "{\\sqrt{n}}t_\\alpha(n-1)$ $\\approx$ 1.645 \n",
    "\n",
    "3) Следовательно искомый доверительный интервал: (8 - 1.645; 8 + 1.645) = (6.355; 9.645)"
   ]
  },
  {
   "cell_type": "markdown",
   "id": "f803251e",
   "metadata": {},
   "source": [
    "## Задача №3"
   ]
  },
  {
   "cell_type": "markdown",
   "id": "d5cc2e84",
   "metadata": {},
   "source": [
    "В данном случае, показателем тесноты связи является коэффицент корреляции"
   ]
  },
  {
   "cell_type": "code",
   "execution_count": 24,
   "id": "35f2cf74",
   "metadata": {},
   "outputs": [
    {
     "data": {
      "text/plain": [
       "-0.5243225050930764"
      ]
     },
     "execution_count": 24,
     "metadata": {},
     "output_type": "execute_result"
    }
   ],
   "source": [
    "import pandas as pd\n",
    "\n",
    "man = [7, 8, 8, 5, 7]\n",
    "woman = [10, 5, 3, 8, 10]\n",
    "s1 = pd.Series(man)\n",
    "s2 = pd.Series(woman)\n",
    "\n",
    "s1.corr(s2)"
   ]
  },
  {
   "cell_type": "markdown",
   "id": "fe581b8d",
   "metadata": {},
   "source": [
    "В данном случае, коэффицент получился отрицательным, но по модулю не близким к единице, поэтому максимум, можно сделать вывод о том, что присутствует слабая обратная связь."
   ]
  }
 ],
 "metadata": {
  "kernelspec": {
   "display_name": "Python 3 (ipykernel)",
   "language": "python",
   "name": "python3"
  },
  "language_info": {
   "codemirror_mode": {
    "name": "ipython",
    "version": 3
   },
   "file_extension": ".py",
   "mimetype": "text/x-python",
   "name": "python",
   "nbconvert_exporter": "python",
   "pygments_lexer": "ipython3",
   "version": "3.9.1"
  }
 },
 "nbformat": 4,
 "nbformat_minor": 5
}
